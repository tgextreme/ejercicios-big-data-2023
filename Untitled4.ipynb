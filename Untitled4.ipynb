{
 "cells": [
  {
   "cell_type": "code",
   "execution_count": 6,
   "id": "1090decd",
   "metadata": {},
   "outputs": [
    {
     "name": "stdout",
     "output_type": "stream",
     "text": [
      "Digame una palabrahola mundo\n",
      "HOLA MUNDO\n"
     ]
    }
   ],
   "source": [
    "#pedir texto al usuario\n",
    "#convertir mayusculas en minusculas\n",
    "#minusculas en mayusculas\n",
    "#dejar igual el resto (espacio, numeros, etc)\n",
    "import re\n",
    "import re\n",
    "def convertirAMayusculas(txt):\n",
    "    \n",
    "    x = re.findall(\"[a-z]+\", txt)\n",
    "    return txt.upper()\n",
    "\n",
    "\n",
    "palabra= input(\"Digame una palabra\")\n",
    "intermedio=\"\"\n",
    "for x in palabra:\n",
    "    intermedio= intermedio+str(convertirAMayusculas(x))\n",
    "print(intermedio)"
   ]
  },
  {
   "cell_type": "code",
   "execution_count": 3,
   "id": "887215e7",
   "metadata": {},
   "outputs": [
    {
     "name": "stdout",
     "output_type": "stream",
     "text": [
      "['a']\n"
     ]
    }
   ],
   "source": [
    "import re\n",
    "\n",
    "txt = \"a\"\n",
    "x = re.findall(\"[a-z]+\", txt)\n",
    "print(x)"
   ]
  },
  {
   "cell_type": "code",
   "execution_count": null,
   "id": "f83abf6a",
   "metadata": {},
   "outputs": [],
   "source": []
  }
 ],
 "metadata": {
  "kernelspec": {
   "display_name": "Python 3 (ipykernel)",
   "language": "python",
   "name": "python3"
  },
  "language_info": {
   "codemirror_mode": {
    "name": "ipython",
    "version": 3
   },
   "file_extension": ".py",
   "mimetype": "text/x-python",
   "name": "python",
   "nbconvert_exporter": "python",
   "pygments_lexer": "ipython3",
   "version": "3.10.9"
  }
 },
 "nbformat": 4,
 "nbformat_minor": 5
}
