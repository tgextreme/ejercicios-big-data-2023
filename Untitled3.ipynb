{
 "cells": [
  {
   "cell_type": "code",
   "execution_count": 18,
   "id": "2b7da044",
   "metadata": {},
   "outputs": [
    {
     "name": "stdout",
     "output_type": "stream",
     "text": [
      "Digame la ciudad la cual quieres informaciónarr5\n"
     ]
    }
   ],
   "source": [
    "import csv\n",
    "import numpy as np\n",
    "import re\n",
    "\n",
    "def operacionSuma(operandos):\n",
    "    \n",
    "        \n",
    "    media=0.0\n",
    "    sumar=0.0\n",
    "    columna=0\n",
    "    \n",
    "    try:\n",
    "        for y in operandos:\n",
    "            if(columna>1):\n",
    "                sumar=sumar+float(y.replace(\",\",\".\"))\n",
    "                #print(str(sumar))\n",
    "\n",
    "\n",
    "            columna=columna+1\n",
    "            #print (str(columna))\n",
    "        media=sumar/18.0\n",
    "    except:\n",
    "        media=0\n",
    "    return media\n",
    "\n",
    "\n",
    "nombre=input(\"Digame la ciudad la cual quieres información\")\n",
    "\n",
    "with open(\"edades-medias-de-la-poblacion.csv\", 'r', encoding=\"utf-8\") as f:\n",
    "    data =list(csv.reader(f,delimiter=\";\"))\n",
    "data =np.array(data)\n",
    "\n",
    "for x in data:\n",
    "    y= re.findall(nombre.lower(), x[1].lower())\n",
    "    if len(y)>0:\n",
    "        media=\"La media de \"+str(x[1]) +\" es \" +str(operacionSuma(x))\n",
    "        print(media)\n",
    "        print(x)\n",
    "\n"
   ]
  },
  {
   "cell_type": "code",
   "execution_count": null,
   "id": "fbf7cb98",
   "metadata": {},
   "outputs": [],
   "source": []
  }
 ],
 "metadata": {
  "kernelspec": {
   "display_name": "Python 3 (ipykernel)",
   "language": "python",
   "name": "python3"
  },
  "language_info": {
   "codemirror_mode": {
    "name": "ipython",
    "version": 3
   },
   "file_extension": ".py",
   "mimetype": "text/x-python",
   "name": "python",
   "nbconvert_exporter": "python",
   "pygments_lexer": "ipython3",
   "version": "3.9.12"
  }
 },
 "nbformat": 4,
 "nbformat_minor": 5
}
