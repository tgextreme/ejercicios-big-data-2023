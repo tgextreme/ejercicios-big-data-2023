{
 "cells": [
  {
   "cell_type": "code",
   "execution_count": 9,
   "id": "3195d14a",
   "metadata": {},
   "outputs": [
    {
     "name": "stdout",
     "output_type": "stream",
     "text": [
      "       sepal_length  sepal_width  petal_length  petal_width\n",
      "count    150.000000   150.000000    150.000000   150.000000\n",
      "mean       5.843333     3.057333      3.758000     1.199333\n",
      "std        0.828066     0.435866      1.765298     0.762238\n",
      "min        4.300000     2.000000      1.000000     0.100000\n",
      "25%        5.100000     2.800000      1.600000     0.300000\n",
      "50%        5.800000     3.000000      4.350000     1.300000\n",
      "75%        6.400000     3.300000      5.100000     1.800000\n",
      "max        7.900000     4.400000      6.900000     2.500000\n",
      "            sepal_length  sepal_width  petal_length  petal_width\n",
      "species                                                         \n",
      "setosa             5.006        3.428         1.462        0.246\n",
      "versicolor         5.936        2.770         4.260        1.326\n",
      "virginica          6.588        2.974         5.552        2.026\n",
      "0      8.6\n",
      "1      7.9\n",
      "2      7.9\n",
      "3      7.7\n",
      "4      8.6\n",
      "      ... \n",
      "145    9.7\n",
      "146    8.8\n",
      "147    9.5\n",
      "148    9.6\n",
      "149    8.9\n",
      "Name: sepal_num, Length: 150, dtype: float64\n"
     ]
    }
   ],
   "source": [
    "import pandas as pd\n",
    "import seaborn as sns\n",
    "\n",
    "df=sns.load_dataset(\"iris\")\n",
    "#print (df)\n",
    "\n",
    "print(df.describe())\n",
    "\n",
    "print (df.groupby(\"species\").mean())\n",
    "\n",
    "df[\"sepal_num\"]=df[\"sepal_length\"]+df[\"sepal_width\"]\n",
    "print(df[\"sepal_num\"])\n",
    "\n",
    "df.to_csv(\"csv_sea.csv\")\n"
   ]
  },
  {
   "cell_type": "code",
   "execution_count": null,
   "id": "d777a911",
   "metadata": {},
   "outputs": [],
   "source": []
  }
 ],
 "metadata": {
  "kernelspec": {
   "display_name": "Python 3 (ipykernel)",
   "language": "python",
   "name": "python3"
  },
  "language_info": {
   "codemirror_mode": {
    "name": "ipython",
    "version": 3
   },
   "file_extension": ".py",
   "mimetype": "text/x-python",
   "name": "python",
   "nbconvert_exporter": "python",
   "pygments_lexer": "ipython3",
   "version": "3.9.12"
  }
 },
 "nbformat": 4,
 "nbformat_minor": 5
}
