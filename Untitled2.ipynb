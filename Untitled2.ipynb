{
 "cells": [
  {
   "cell_type": "code",
   "execution_count": 45,
   "id": "3893b335",
   "metadata": {},
   "outputs": [],
   "source": [
    "import csv\n",
    "import numpy as np\n",
    "\n",
    "def operacionSuma(operandos):\n",
    "    \n",
    "        \n",
    "    media=0.0\n",
    "    sumar=0.0\n",
    "    columna=0\n",
    "    \n",
    "    try:\n",
    "        for y in operandos:\n",
    "            if(columna>1):\n",
    "                sumar=sumar+float(y.replace(\",\",\".\"))\n",
    "                #print(str(sumar))\n",
    "\n",
    "\n",
    "            columna=columna+1\n",
    "            #print (str(columna))\n",
    "        media=sumar/18.0\n",
    "    except:\n",
    "        media=0\n",
    "    return media\n",
    "                            \n",
    "\n",
    "with open(\"edades-medias-de-la-poblacion.csv\", 'r', encoding=\"utf-8\") as f:\n",
    "    data =list(csv.reader(f,delimiter=\";\"))\n",
    "data =np.array(data)\n",
    "cont=0\n",
    "sumar=0\n",
    "columna=0\n",
    "\n",
    "for x in data:\n",
    "    #print(x)\n",
    "    if( cont>=1):\n",
    "        media=operacionSuma(x)\n",
    "       # media=sumar/18.0\n",
    "        if media>50:\n",
    "            print (x[1]+\" \"+str(media))\n",
    "        cont=1\n",
    "    else:\n",
    "        cont=1\n",
    "    \n",
    "\n"
   ]
  },
  {
   "cell_type": "code",
   "execution_count": null,
   "id": "841489e6",
   "metadata": {},
   "outputs": [],
   "source": []
  },
  {
   "cell_type": "code",
   "execution_count": null,
   "id": "64ae9965",
   "metadata": {},
   "outputs": [],
   "source": []
  }
 ],
 "metadata": {
  "kernelspec": {
   "display_name": "Python 3 (ipykernel)",
   "language": "python",
   "name": "python3"
  },
  "language_info": {
   "codemirror_mode": {
    "name": "ipython",
    "version": 3
   },
   "file_extension": ".py",
   "mimetype": "text/x-python",
   "name": "python",
   "nbconvert_exporter": "python",
   "pygments_lexer": "ipython3",
   "version": "3.10.9"
  }
 },
 "nbformat": 4,
 "nbformat_minor": 5
}
